{
 "cells": [
  {
   "cell_type": "code",
   "execution_count": 1,
   "id": "32eb090b-4f35-4cc5-aaf9-89fe238e5e36",
   "metadata": {},
   "outputs": [
    {
     "name": "stdout",
     "output_type": "stream",
     "text": [
      "Prediction 1: Approved\n",
      "Prediction 2: Approved\n",
      "Prediction 3: Approved\n",
      "Prediction 4: Approved\n",
      "Prediction 5: Disapproved\n",
      "Prediction 6: Disapproved\n",
      "Prediction 7: Disapproved\n",
      "Prediction 8: Approved\n",
      "Prediction 9: Disapproved\n",
      "Prediction 10: Disapproved\n",
      "Prediction 11: Disapproved\n",
      "Prediction 12: Approved\n",
      "Prediction 13: Disapproved\n",
      "Prediction 14: Disapproved\n",
      "Prediction 15: Approved\n",
      "Prediction 16: Disapproved\n"
     ]
    }
   ],
   "source": [
    "import pandas as pd\n",
    "from pipeline import process_and_predict\n",
    "# Assuming new data comes as a pandas DataFrame `new_data`\n",
    "data = pd.read_csv('csv_deployment.csv') \n",
    "\n",
    "# Call the pipeline function to process and predict\n",
    "y_pred_real_time, y_prob_real_time = process_and_predict(data)"
   ]
  }
 ],
 "metadata": {
  "kernelspec": {
   "display_name": "Python 3 (ipykernel)",
   "language": "python",
   "name": "python3"
  },
  "language_info": {
   "codemirror_mode": {
    "name": "ipython",
    "version": 3
   },
   "file_extension": ".py",
   "mimetype": "text/x-python",
   "name": "python",
   "nbconvert_exporter": "python",
   "pygments_lexer": "ipython3",
   "version": "3.11.5"
  }
 },
 "nbformat": 4,
 "nbformat_minor": 5
}
